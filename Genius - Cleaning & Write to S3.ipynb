{
 "cells": [
  {
   "cell_type": "code",
   "execution_count": 0,
   "metadata": {
    "application/vnd.databricks.v1+cell": {
     "cellMetadata": {
      "byteLimit": 2048000,
      "rowLimit": 10000
     },
     "inputWidgets": {},
     "nuid": "e11111e9-5ab1-4b50-940b-444ff73472a0",
     "showTitle": false,
     "title": ""
    }
   },
   "outputs": [
    {
     "output_type": "stream",
     "name": "stdout",
     "output_type": "stream",
     "text": [
      "Python interpreter will be restarted.\nRequirement already satisfied: boto3==1.21.32 in /databricks/python3/lib/python3.9/site-packages (1.21.32)\nRequirement already satisfied: fsspec==2023.10.0 in /local_disk0/.ephemeral_nfs/envs/pythonEnv-f272ec01-4644-40fb-ae6c-31119890c026/lib/python3.9/site-packages (2023.10.0)\nRequirement already satisfied: s3fs==0.4.2 in /local_disk0/.ephemeral_nfs/envs/pythonEnv-f272ec01-4644-40fb-ae6c-31119890c026/lib/python3.9/site-packages (0.4.2)\nRequirement already satisfied: botocore<1.25.0,>=1.24.32 in /databricks/python3/lib/python3.9/site-packages (from boto3==1.21.32) (1.24.32)\nRequirement already satisfied: s3transfer<0.6.0,>=0.5.0 in /databricks/python3/lib/python3.9/site-packages (from boto3==1.21.32) (0.5.0)\nRequirement already satisfied: jmespath<2.0.0,>=0.7.1 in /databricks/python3/lib/python3.9/site-packages (from boto3==1.21.32) (0.10.0)\nRequirement already satisfied: python-dateutil<3.0.0,>=2.1 in /databricks/python3/lib/python3.9/site-packages (from botocore<1.25.0,>=1.24.32->boto3==1.21.32) (2.8.2)\nRequirement already satisfied: urllib3<1.27,>=1.25.4 in /databricks/python3/lib/python3.9/site-packages (from botocore<1.25.0,>=1.24.32->boto3==1.21.32) (1.26.9)\nRequirement already satisfied: six>=1.5 in /databricks/python3/lib/python3.9/site-packages (from python-dateutil<3.0.0,>=2.1->botocore<1.25.0,>=1.24.32->boto3==1.21.32) (1.16.0)\nPython interpreter will be restarted.\nPython interpreter will be restarted.\nRequirement already satisfied: spark-nlp==5.1.4 in /local_disk0/.ephemeral_nfs/envs/pythonEnv-f272ec01-4644-40fb-ae6c-31119890c026/lib/python3.9/site-packages (5.1.4)\nPython interpreter will be restarted.\nPython interpreter will be restarted.\nRequirement already satisfied: textblob==0.17.1 in /local_disk0/.ephemeral_nfs/envs/pythonEnv-f272ec01-4644-40fb-ae6c-31119890c026/lib/python3.9/site-packages (0.17.1)\nRequirement already satisfied: nltk>=3.1 in /local_disk0/.ephemeral_nfs/envs/pythonEnv-f272ec01-4644-40fb-ae6c-31119890c026/lib/python3.9/site-packages (from textblob==0.17.1) (3.8.1)\nRequirement already satisfied: tqdm in /local_disk0/.ephemeral_nfs/envs/pythonEnv-f272ec01-4644-40fb-ae6c-31119890c026/lib/python3.9/site-packages (from nltk>=3.1->textblob==0.17.1) (4.66.1)\nRequirement already satisfied: click in /databricks/python3/lib/python3.9/site-packages (from nltk>=3.1->textblob==0.17.1) (8.0.4)\nRequirement already satisfied: regex>=2021.8.3 in /local_disk0/.ephemeral_nfs/envs/pythonEnv-f272ec01-4644-40fb-ae6c-31119890c026/lib/python3.9/site-packages (from nltk>=3.1->textblob==0.17.1) (2023.10.3)\nRequirement already satisfied: joblib in /databricks/python3/lib/python3.9/site-packages (from nltk>=3.1->textblob==0.17.1) (1.1.1)\nPython interpreter will be restarted.\n"
     ]
    }
   ],
   "source": [
    "%pip install \"boto3==1.21.32\" \"fsspec==2023.10.0\" \"s3fs==0.4.2\"\n",
    "%pip install \"spark-nlp==5.1.4\"\n",
    "%pip install \"textblob==0.17.1\""
   ]
  },
  {
   "cell_type": "markdown",
   "metadata": {
    "application/vnd.databricks.v1+cell": {
     "cellMetadata": {
      "byteLimit": 2048000,
      "rowLimit": 10000
     },
     "inputWidgets": {},
     "nuid": "e0caf053-9a60-4331-bef1-496b73b0757c",
     "showTitle": true,
     "title": "Connecting to my S3"
    }
   },
   "source": []
  },
  {
   "cell_type": "code",
   "execution_count": 0,
   "metadata": {
    "application/vnd.databricks.v1+cell": {
     "cellMetadata": {
      "byteLimit": 2048000,
      "rowLimit": 10000
     },
     "inputWidgets": {},
     "nuid": "0ebd9dce-bde4-4c8b-82d8-43272a745858",
     "showTitle": false,
     "title": ""
    }
   },
   "outputs": [],
   "source": [
    "import os\n",
    "# To work with Amazon S3 storage, set the following variables using your AWS Access Key and Secret Key\n",
    "# Set the Region to where your files are stored in S3.\n",
    "access_key = 'abc'\n",
    "secret_key = 'abc'\n",
    "# Set the environment variables so boto3 can pick them up later\n",
    "os.environ['AWS_ACCESS_KEY_ID'] = access_key\n",
    "os.environ['AWS_SECRET_ACCESS_KEY'] = secret_key\n",
    "encoded_secret_key = secret_key.replace(\"/\", \"%2F\")\n",
    "aws_region = \"us-east-2\"\n",
    "# Set this to the name of your bucket where the files are stored\n",
    "aws_bucket_name = \"genius-lyrics-ss\"\n",
    "mount_name = \"s3dataread\""
   ]
  },
  {
   "cell_type": "code",
   "execution_count": 0,
   "metadata": {
    "application/vnd.databricks.v1+cell": {
     "cellMetadata": {
      "byteLimit": 2048000,
      "rowLimit": 10000
     },
     "inputWidgets": {},
     "nuid": "47670405-3fa2-4dd4-b2b4-749997a59627",
     "showTitle": false,
     "title": ""
    }
   },
   "outputs": [],
   "source": [
    "# Update the Spark options to work with our AWS Credentials\n",
    "sc._jsc.hadoopConfiguration().set(\"fs.s3a.access.key\", access_key)\n",
    "sc._jsc.hadoopConfiguration().set(\"fs.s3a.secret.key\", secret_key)\n",
    "sc._jsc.hadoopConfiguration().set(\"fs.s3a.endpoint\", \"s3.\" + aws_region +\n",
    "\".amazonaws.com\")"
   ]
  },
  {
   "cell_type": "markdown",
   "metadata": {
    "application/vnd.databricks.v1+cell": {
     "cellMetadata": {
      "byteLimit": 2048000,
      "rowLimit": 10000
     },
     "inputWidgets": {},
     "nuid": "530ad295-4ff8-4ad6-a364-752789c1bf0f",
     "showTitle": true,
     "title": "Reading Data from S3"
    }
   },
   "source": []
  },
  {
   "cell_type": "code",
   "execution_count": 0,
   "metadata": {
    "application/vnd.databricks.v1+cell": {
     "cellMetadata": {
      "byteLimit": 2048000,
      "rowLimit": 10000
     },
     "inputWidgets": {},
     "nuid": "78f06a6c-f26e-4690-a2da-45f8aec89c8c",
     "showTitle": false,
     "title": ""
    }
   },
   "outputs": [
    {
     "output_type": "display_data",
     "data": {
      "application/vnd.databricks.v1+bamboolib_hint": "{\"pd.DataFrames\": [], \"version\": \"0.0.1\"}",
      "text/plain": []
     },
     "metadata": {},
     "output_type": "display_data"
    }
   ],
   "source": [
    "from pyspark.sql import SparkSession\n",
    "import pandas as pd \n",
    "\n",
    "spark = SparkSession.builder.appName(\"lyrics\").getOrCreate()\n",
    "# Path to Amazon S3 files\n",
    "filepath = \"s3://genius-lyrics-ss/landing/\"\n",
    "filename = 'song_lyrics.csv'"
   ]
  },
  {
   "cell_type": "code",
   "execution_count": 0,
   "metadata": {
    "application/vnd.databricks.v1+cell": {
     "cellMetadata": {
      "byteLimit": 2048000,
      "rowLimit": 10000
     },
     "inputWidgets": {},
     "nuid": "835934bf-b2ed-4d5e-a60f-5eb1cdece71a",
     "showTitle": false,
     "title": ""
    }
   },
   "outputs": [
    {
     "output_type": "stream",
     "name": "stderr",
     "output_type": "stream",
     "text": [
      "/local_disk0/.ephemeral_nfs/envs/pythonEnv-f272ec01-4644-40fb-ae6c-31119890c026/lib/python3.9/site-packages/fsspec/registry.py:272: UserWarning: Your installed version of s3fs is very old and known to cause\nsevere performance issues, see also https://github.com/dask/dask/issues/10276\n\nTo fix, you should specify a lower version bound on s3fs, or\nupdate the current installation.\n\n  warnings.warn(s3_msg)\n"
     ]
    }
   ],
   "source": [
    "#To read my data, since my file is way too big for this cluster \n",
    "\n",
    "skip = 0\n",
    "nrows = 10000\n",
    "total_rows_to_read = 1000000\n",
    "\n",
    "# Read in the first set of rows using Python Pandas\n",
    "df = pd.read_csv(f\"{filepath}{filename}\", sep=',', skiprows=skip, nrows=nrows, encoding='utf-8')\n",
    "# Get the Spark dataframe started\n",
    "sdf = spark.createDataFrame(df)\n",
    "\n",
    "# Increment the skip\n",
    "skip = skip + nrows\n",
    "while (skip < total_rows_to_read):\n",
    "    df = pd.read_csv(f\"{filepath}{filename}\", sep=',', skiprows=skip, nrows=nrows, encoding='utf-8')\n",
    "    # Convert to a spark dataframe and append (union) to the existing sdf\n",
    "    sdf = sdf.union(spark.createDataFrame(df))\n",
    "    # Increment the skip\n",
    "    skip = skip + nrows\n",
    "\n"
   ]
  },
  {
   "cell_type": "markdown",
   "metadata": {
    "application/vnd.databricks.v1+cell": {
     "cellMetadata": {
      "byteLimit": 2048000,
      "rowLimit": 10000
     },
     "inputWidgets": {},
     "nuid": "ab70efed-9b37-4f1a-9c7f-0c9d47855976",
     "showTitle": true,
     "title": "Cleaning Data"
    }
   },
   "source": []
  },
  {
   "cell_type": "code",
   "execution_count": 0,
   "metadata": {
    "application/vnd.databricks.v1+cell": {
     "cellMetadata": {
      "byteLimit": 2048000,
      "rowLimit": 10000
     },
     "inputWidgets": {},
     "nuid": "557045ae-41e1-4e89-b2c3-d6059bfd3784",
     "showTitle": false,
     "title": ""
    }
   },
   "outputs": [],
   "source": [
    "#importing all neccessary libraries\n",
    "from pyspark.sql.functions import udf, col, lower\n",
    "from pyspark.sql.types import StringType\n",
    "import string"
   ]
  },
  {
   "cell_type": "code",
   "execution_count": 0,
   "metadata": {
    "application/vnd.databricks.v1+cell": {
     "cellMetadata": {
      "byteLimit": 2048000,
      "rowLimit": 10000
     },
     "inputWidgets": {},
     "nuid": "878f75da-f993-4d6a-b8a7-f9762d757284",
     "showTitle": false,
     "title": ""
    }
   },
   "outputs": [
    {
     "output_type": "stream",
     "name": "stdout",
     "output_type": "stream",
     "text": [
      "+----------------------------------------------------------------------------------------------------+----------------------------------------------------------------------------------------------------+\n|                                                                                              lyrics|                                                                                      lyrics_cleaned|\n+----------------------------------------------------------------------------------------------------+----------------------------------------------------------------------------------------------------+\n|[Chorus: Opera Steve & Cam'ron]\\nKilla Cam, Killa Cam, Cam\\nKilla Cam, Killa Cam\\nKilla Cam, Cam\\...|Chorus Opera Steve  Camron\\nKilla Cam Killa Cam Cam\\nKilla Cam Killa Cam\\nKilla Cam Cam\\nKilla Ca...|\n|[Produced by Irv Gotti]\\n\\n[Intro]\\nYeah, hah, yeah, Roc-A-Fella\\nWe invite you to somethin' epic...|Produced by Irv Gotti\\n\\nIntro\\nYeah hah yeah RocAFella\\nWe invite you to somethin epic you know\\...|\n|Maybe cause I'm eatin\\nAnd these bastards fiend for they grub\\nI carry pumps like I serve gasolin...|Maybe cause Im eatin\\nAnd these bastards fiend for they grub\\nI carry pumps like I serve gasoline...|\n|[Produced by Kanye West and Brian Miller]\\n\\n[Intro: Cam'ron & Kanye West]\\nUgh, Killa!\\nBaby!\\nK...|Produced by Kanye West and Brian Miller\\n\\nIntro Camron  Kanye West\\nUgh Killa\\nBaby\\nKanye this ...|\n|[Intro]\\nSo they ask me\\n\"Young boy\\nWhat you gon' do the second time around?\\nHow you gon' come ...|Intro\\nSo they ask me\\nYoung boy\\nWhat you gon do the second time around\\nHow you gon come back\\n...|\n|[Intro: Lil Wayne]\\nHaha\\nUh-huh\\nNo homo (Young Mula, baby!)\\nI say, he's so sweet, make her wan...|Intro Lil Wayne\\nHaha\\nUhhuh\\nNo homo Young Mula baby\\nI say hes so sweet make her wanna lick the...|\n|[Intro: Pusha T]\\nNo, no, no!\\nI told you, I lived this shit\\nI ain't up here just rappin' and ta...|Intro Pusha T\\nNo no no\\nI told you I lived this shit\\nI aint up here just rappin and tappin\\nSpi...|\n|[Verse 1: Cam'ron]\\nKilla, Dipset\\nMan I spit that pimp talk, you hang out where the pimps collid...|Verse 1 Camron\\nKilla Dipset\\nMan I spit that pimp talk you hang out where the pimps collide\\nIts...|\n|[Verse 1]\\nAy yo you wonder who I are\\nI guzzle up at the bar\\nBut you see me in the cars that st...|Verse 1\\nAy yo you wonder who I are\\nI guzzle up at the bar\\nBut you see me in the cars that star...|\n|[Chorus: Jaheim]\\nNow Lord you know, just how hard I try\\nTo live my life and get it right\\nTryin...|Chorus Jaheim\\nNow Lord you know just how hard I try\\nTo live my life and get it right\\nTrying to...|\n|[Intro]\\nYeah\\nMoney on my mind, money on my mind (Yeah)\\nMoney on my mind, money—money on my min...|Intro\\nYeah\\nMoney on my mind money on my mind Yeah\\nMoney on my mind money—money on my mind Yeah...|\n|[Verse 1]\\nYou ain't never seen a nigga this large\\nMotherfuck the house, the nigga's garage is a...|Verse 1\\nYou aint never seen a nigga this large\\nMotherfuck the house the niggas garage is as big...|\n|[Produced by DJ Premier]\\n\\n[Hook Samples: Snoop Dogg + Prodigy]\\n\"Dear God – I wonder, can you s...|Produced by DJ Premier\\n\\nHook Samples Snoop Dogg  Prodigy\\nDear God – I wonder can you save me\\n...|\n|[Produced by Just Blaze]\\n\\n[Intro: Gloria Carter]\\nShawn Carter was born December 4th, weighing ...|Produced by Just Blaze\\n\\nIntro Gloria Carter\\nShawn Carter was born December 4th weighing in at ...|\n|[Verse 1]\\nYo, fuck all the glamours and glitz, I plan to get rich\\nI'm from New York and never w...|Verse 1\\nYo fuck all the glamours and glitz I plan to get rich\\nIm from New York and never was a ...|\n|[Intro: Birdman]\\nAyy-ayy, ayy, ayy\\nYeah\\nTote 'em up, light it up, nigga (Tote 'em up, light it...|Intro Birdman\\nAyyayy ayy ayy\\nYeah\\nTote em up light it up nigga Tote em up light it up nigga pu...|\n|[Produced by Timbaland]\\n\\n[Verse 1]\\nYo, show closer, J-to-the-A-Y-Hovah\\nPlace shutter down, wh...|Produced by Timbaland\\n\\nVerse 1\\nYo show closer JtotheAYHovah\\nPlace shutter down who the fuckll...|\n|[Chorus: Cam'ron]\\nAyo, fuck losing weight\\nI'm back on these highways moving cakes\\nLife's based...|Chorus Camron\\nAyo fuck losing weight\\nIm back on these highways moving cakes\\nLifes based upon w...|\n|[Intro: Jay-Z, Kid Capri & Both]\\nYeah, uh-huh, watch this y'all\\nUhh, watch this y'all\\nC'mon, J...|Intro JayZ Kid Capri  Both\\nYeah uhhuh watch this yall\\nUhh watch this yall\\nCmon Jigga watch thi...|\n|[Intro: Juelz Santana]\\nGangsta Music, part two\\nDipset\\nKilla, Heatmakerz, Juelz Santana (C'mon ...|Intro Juelz Santana\\nGangsta Music part two\\nDipset\\nKilla Heatmakerz Juelz Santana Cmon man\\nLet...|\n+----------------------------------------------------------------------------------------------------+----------------------------------------------------------------------------------------------------+\nonly showing top 20 rows\n\n+--------------------+---+---------+----+------+--------------------+--------------------+---+-------------+-----------+--------+--------------------+\n|               title|tag|   artist|year| views|            features|              lyrics| id|language_cld3|language_ft|language|      lyrics_cleaned|\n+--------------------+---+---------+----+------+--------------------+--------------------+---+-------------+-----------+--------+--------------------+\n|           Killa Cam|rap|  Cam'ron|2004|173166|   CamronOpera Steve|[Chorus: Opera St...|  1|           en|         en|      en|Chorus Opera Stev...|\n|          Can I Live|rap|    JAY-Z|1996|468624|                    |[Produced by Irv ...|  3|           en|         en|      en|Produced by Irv G...|\n|   Forgive Me Father|rap| Fabolous|2003|  4743|                    |Maybe cause I'm e...|  4|           en|         en|      en|Maybe cause Im ea...|\n|        Down and Out|rap|  Cam'ron|2004|144404|CamronKanye WestS...|[Produced by Kany...|  5|           en|         en|      en|Produced by Kanye...|\n|              Fly In|rap|Lil Wayne|2005| 78271|                    |[Intro]\\nSo they ...|  6|           en|         en|      en|Intro\\nSo they as...|\n|      Lollipop Remix|rap|Lil Wayne|2008|580832|Kanye WestStatic ...|[Intro: Lil Wayne...|  7|           en|         en|      en|Intro Lil Wayne\\n...|\n|          Im Not You|rap|   Clipse|2002| 28645|JadakissStyles PR...|[Intro: Pusha T]\\...|  8|           en|         en|      en|Intro Pusha T\\nNo...|\n|         Family Ties|rap|  Cam'ron|2004| 41960|     CamronLady Wray|[Verse 1: Cam'ron...|  9|           en|         en|      en|Verse 1 Camron\\nK...|\n|   Rockin and Rollin|rap|  Cam'ron|1998|  6399|              Camron|[Verse 1]\\nAy yo ...| 10|           en|         en|      en|Verse 1\\nAy yo yo...|\n|       Lord You Know|rap|  Cam'ron|2004| 11882|CamronJuelz Santa...|[Chorus: Jaheim]\\...| 11|           en|         en|      en|Chorus Jaheim\\nNo...|\n|    Money On My Mind|rap|Lil Wayne|2005|128927|                    |[Intro]\\nYeah\\nMo...| 12|           en|         en|      en|Intro\\nYeah\\nMone...|\n|     Think Yall Know|rap| Fabolous|2003|  2530|                    |[Verse 1]\\nYou ai...| 13|           en|         en|      en|Verse 1\\nYou aint...|\n|              DEvils|rap|    JAY-Z|1996|504959|                    |[Produced by DJ P...| 14|           en|         en|      en|Produced by DJ Pr...|\n|        December 4th|rap|    JAY-Z|2003|283714|                    |[Produced by Just...| 15|           en|         en|      en|Produced by Just ...|\n|        98 Freestyle|rap|    Big L|2000|297788|                    |[Verse 1]\\nYo, fu...| 16|           en|         en|      en|Verse 1\\nYo fuck ...|\n|What Happened to ...|rap|  Birdman|2002|100347|              Clipse|[Intro: Birdman]\\...| 17|           en|         en|      en|Intro Birdman\\nAy...|\n|Its Hot Some Like...|rap|    JAY-Z|1999|103549|                    |[Produced by Timb...| 18|           en|         en|      en|Produced by Timba...|\n| Losing Weight Pt. 2|rap|  Cam'ron|2002| 32712| CamronJuelz Santana|[Chorus: Cam'ron]...| 19|           en|         en|      en|Chorus Camron\\nAy...|\n|       Its Like That|rap|    JAY-Z|1998| 37692|           Kid Capri|[Intro: Jay-Z, Ki...|123|           en|         en|      en|Intro JayZ Kid Ca...|\n|  More Gangsta Music|rap|  Cam'ron|2004| 20419| CamronJuelz Santana|[Intro: Juelz San...|124|           en|         en|      en|Intro Juelz Santa...|\n+--------------------+---+---------+----+------+--------------------+--------------------+---+-------------+-----------+--------+--------------------+\nonly showing top 20 rows\n\n"
     ]
    }
   ],
   "source": [
    "#Cleaning Lyrics \n",
    "\n",
    "def remove_punct(text):\n",
    "    return \"\".join([char for char in text if char not in string.punctuation])\n",
    "\n",
    "#registering udf \n",
    "remove_punct_udf = udf(remove_punct, StringType())\n",
    "\n",
    "#using udf to the lyrics column & appending a new column with the cleaned lyrics\n",
    "sdf = sdf.withColumn(\"lyrics_cleaned\", remove_punct_udf(col(\"lyrics\")))\n",
    "sdf.select(\"lyrics\", \"lyrics_cleaned\").show(truncate=100)\n",
    "#apply udf to features \n",
    "sdf = sdf.withColumn(\"features\", remove_punct_udf(col(\"features\")))\n",
    "sdf.show()"
   ]
  },
  {
   "cell_type": "code",
   "execution_count": 0,
   "metadata": {
    "application/vnd.databricks.v1+cell": {
     "cellMetadata": {
      "byteLimit": 2048000,
      "rowLimit": 10000
     },
     "inputWidgets": {},
     "nuid": "05e59546-e791-4621-bcb1-cf2cbe2f2e31",
     "showTitle": false,
     "title": ""
    }
   },
   "outputs": [
    {
     "output_type": "stream",
     "name": "stdout",
     "output_type": "stream",
     "text": [
      "Column 'title': 2 null values\nColumn 'tag': 0 null values\nColumn 'artist': 0 null values\nColumn 'year': 0 null values\nColumn 'views': 0 null values\nColumn 'features': 0 null values\nColumn 'lyrics': 0 null values\nColumn 'id': 0 null values\nColumn 'language_cld3': 275 null values\nColumn 'language_ft': 613 null values\nColumn 'language': 913 null values\nColumn 'lyrics_cleaned': 0 null values\n"
     ]
    }
   ],
   "source": [
    "#Check for null values again to make sure I don't run into issues later\n",
    "null_counts = [sdf.where(col(column).isNull()).count() for column in sdf.columns]\n",
    "\n",
    "# Create a dictionary with column names and corresponding null counts\n",
    "null_counts_dict = dict(zip(sdf.columns, null_counts))\n",
    "\n",
    "# Display the null counts\n",
    "for column, null_count in null_counts_dict.items():\n",
    "    print(f\"Column '{column}': {null_count} null values\")"
   ]
  },
  {
   "cell_type": "code",
   "execution_count": 0,
   "metadata": {
    "application/vnd.databricks.v1+cell": {
     "cellMetadata": {
      "byteLimit": 2048000,
      "rowLimit": 10000
     },
     "inputWidgets": {},
     "nuid": "12aaf7a8-1cac-480a-9070-edd0c2dc7442",
     "showTitle": false,
     "title": ""
    }
   },
   "outputs": [],
   "source": [
    "#lower my lyrics data\n",
    "sdf = sdf.withColumn(\"lyrics_cleaned\", lower(col(\"lyrics_cleaned\")))\n",
    "#dropping unneccesary columns for my feature engineering - dont need the two language columns, or the number of views\n",
    "sdf = sdf.drop(\"language\", \"language_ft\", \"views\") \n",
    "sdf = sdf.na.drop(subset=[\"title\"])\n",
    "#renaming tag to genre: \n",
    "sdf = sdf.withColumnRenamed(\"tag\", \"genre\")\n",
    "sdf = sdf.withColumnRenamed(\"language_cld3\", \"language\")\n",
    "sdf = sdf.na.fill({'language': 'unknown'})"
   ]
  },
  {
   "cell_type": "code",
   "execution_count": 0,
   "metadata": {
    "application/vnd.databricks.v1+cell": {
     "cellMetadata": {
      "byteLimit": 2048000,
      "rowLimit": 10000
     },
     "inputWidgets": {},
     "nuid": "4b0902af-3bab-448d-811d-a4c3bded7b64",
     "showTitle": false,
     "title": ""
    }
   },
   "outputs": [
    {
     "output_type": "stream",
     "name": "stdout",
     "output_type": "stream",
     "text": [
      "+--------------------+-----+---------+----+--------------------+---+--------+--------------------+\n|               title|genre|   artist|year|            features| id|language|      lyrics_cleaned|\n+--------------------+-----+---------+----+--------------------+---+--------+--------------------+\n|           Killa Cam|  rap|  Cam'ron|2004|   CamronOpera Steve|  1|      en|chorus opera stev...|\n|          Can I Live|  rap|    JAY-Z|1996|                    |  3|      en|produced by irv g...|\n|   Forgive Me Father|  rap| Fabolous|2003|                    |  4|      en|maybe cause im ea...|\n|        Down and Out|  rap|  Cam'ron|2004|CamronKanye WestS...|  5|      en|produced by kanye...|\n|              Fly In|  rap|Lil Wayne|2005|                    |  6|      en|intro so they ask...|\n|      Lollipop Remix|  rap|Lil Wayne|2008|Kanye WestStatic ...|  7|      en|intro lil wayne h...|\n|          Im Not You|  rap|   Clipse|2002|JadakissStyles PR...|  8|      en|intro pusha t no ...|\n|         Family Ties|  rap|  Cam'ron|2004|     CamronLady Wray|  9|      en|verse 1 camron ki...|\n|   Rockin and Rollin|  rap|  Cam'ron|1998|              Camron| 10|      en|verse 1 ay yo you...|\n|       Lord You Know|  rap|  Cam'ron|2004|CamronJuelz Santa...| 11|      en|chorus jaheim now...|\n|    Money On My Mind|  rap|Lil Wayne|2005|                    | 12|      en|intro yeah money ...|\n|     Think Yall Know|  rap| Fabolous|2003|                    | 13|      en|verse 1 you aint ...|\n|              DEvils|  rap|    JAY-Z|1996|                    | 14|      en|produced by dj pr...|\n|        December 4th|  rap|    JAY-Z|2003|                    | 15|      en|produced by just ...|\n|        98 Freestyle|  rap|    Big L|2000|                    | 16|      en|verse 1 yo fuck a...|\n|What Happened to ...|  rap|  Birdman|2002|              Clipse| 17|      en|intro birdman ayy...|\n|Its Hot Some Like...|  rap|    JAY-Z|1999|                    | 18|      en|produced by timba...|\n| Losing Weight Pt. 2|  rap|  Cam'ron|2002| CamronJuelz Santana| 19|      en|chorus camron ayo...|\n|       Its Like That|  rap|    JAY-Z|1998|           Kid Capri|123|      en|intro jayz kid ca...|\n|  More Gangsta Music|  rap|  Cam'ron|2004| CamronJuelz Santana|124|      en|intro juelz santa...|\n+--------------------+-----+---------+----+--------------------+---+--------+--------------------+\nonly showing top 20 rows\n\n"
     ]
    }
   ],
   "source": [
    "#removes the new line characters in lyrics - '/n'\n",
    "def remove_newline(text):\n",
    "    return text.replace('\\n', ' ')\n",
    "\n",
    "#registering udf \n",
    "remove_newline_udf = udf(remove_newline, StringType())\n",
    "\n",
    "#applying udf to lyrics (lyrics_cleaned)\n",
    "sdf = sdf.withColumn(\"lyrics_cleaned\", remove_newline_udf(col(\"lyrics_cleaned\")))\n",
    "#dropping lyrics since i made a new column that cleans it: \n",
    "sdf = sdf.drop(\"lyrics\")\n",
    "sdf.show()\n"
   ]
  },
  {
   "cell_type": "markdown",
   "metadata": {
    "application/vnd.databricks.v1+cell": {
     "cellMetadata": {
      "byteLimit": 2048000,
      "rowLimit": 10000
     },
     "inputWidgets": {},
     "nuid": "e07497b6-9439-4107-883f-25be25921957",
     "showTitle": true,
     "title": "Writing Clean Data to S3 (Parquet file)"
    }
   },
   "source": []
  },
  {
   "cell_type": "code",
   "execution_count": 0,
   "metadata": {
    "application/vnd.databricks.v1+cell": {
     "cellMetadata": {
      "byteLimit": 2048000,
      "rowLimit": 10000
     },
     "inputWidgets": {},
     "nuid": "98d53bb7-e991-4215-a576-0d965de99496",
     "showTitle": false,
     "title": ""
    }
   },
   "outputs": [],
   "source": [
    "output_filepath = \"s3://genius-lyrics-ss/raw/\"\n",
    "# filename = 'song_lyrics_sample.csv'\n",
    "output_filename = 'song_lyrics_2.parquet'\n",
    "sdf.write.option(\"overwrite\", True).parquet(f\"{output_filepath}{output_filename}\")"
   ]
  }
 ],
 "metadata": {
  "application/vnd.databricks.v1+notebook": {
   "dashboards": [],
   "language": "python",
   "notebookMetadata": {
    "pythonIndentUnit": 4
   },
   "notebookName": "Genius - Cleaning & Write to S3",
   "widgets": {}
  }
 },
 "nbformat": 4,
 "nbformat_minor": 0
}
