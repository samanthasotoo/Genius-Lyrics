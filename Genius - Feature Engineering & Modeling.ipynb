{
 "cells": [
  {
   "cell_type": "code",
   "execution_count": 0,
   "metadata": {
    "application/vnd.databricks.v1+cell": {
     "cellMetadata": {
      "byteLimit": 2048000,
      "rowLimit": 10000
     },
     "inputWidgets": {},
     "nuid": "80646bea-9eb3-40d6-994c-b790bbce5d87",
     "showTitle": false,
     "title": ""
    }
   },
   "outputs": [
    {
     "output_type": "stream",
     "name": "stdout",
     "output_type": "stream",
     "text": [
      "Python interpreter will be restarted.\nRequirement already satisfied: boto3==1.21.32 in /databricks/python3/lib/python3.9/site-packages (1.21.32)\nRequirement already satisfied: fsspec==2023.10.0 in /local_disk0/.ephemeral_nfs/envs/pythonEnv-f0fbfb4f-85d6-49ce-93a2-66d9a97cb31f/lib/python3.9/site-packages (2023.10.0)\nRequirement already satisfied: s3fs==0.4.2 in /local_disk0/.ephemeral_nfs/envs/pythonEnv-f0fbfb4f-85d6-49ce-93a2-66d9a97cb31f/lib/python3.9/site-packages (0.4.2)\nRequirement already satisfied: botocore<1.25.0,>=1.24.32 in /databricks/python3/lib/python3.9/site-packages (from boto3==1.21.32) (1.24.32)\nRequirement already satisfied: s3transfer<0.6.0,>=0.5.0 in /databricks/python3/lib/python3.9/site-packages (from boto3==1.21.32) (0.5.0)\nRequirement already satisfied: jmespath<2.0.0,>=0.7.1 in /databricks/python3/lib/python3.9/site-packages (from boto3==1.21.32) (0.10.0)\nRequirement already satisfied: python-dateutil<3.0.0,>=2.1 in /databricks/python3/lib/python3.9/site-packages (from botocore<1.25.0,>=1.24.32->boto3==1.21.32) (2.8.2)\nRequirement already satisfied: urllib3<1.27,>=1.25.4 in /databricks/python3/lib/python3.9/site-packages (from botocore<1.25.0,>=1.24.32->boto3==1.21.32) (1.26.9)\nRequirement already satisfied: six>=1.5 in /databricks/python3/lib/python3.9/site-packages (from python-dateutil<3.0.0,>=2.1->botocore<1.25.0,>=1.24.32->boto3==1.21.32) (1.16.0)\nPython interpreter will be restarted.\nPython interpreter will be restarted.\nRequirement already satisfied: spark-nlp==5.1.4 in /local_disk0/.ephemeral_nfs/envs/pythonEnv-f0fbfb4f-85d6-49ce-93a2-66d9a97cb31f/lib/python3.9/site-packages (5.1.4)\nPython interpreter will be restarted.\nPython interpreter will be restarted.\nRequirement already satisfied: textblob==0.17.1 in /local_disk0/.ephemeral_nfs/envs/pythonEnv-f0fbfb4f-85d6-49ce-93a2-66d9a97cb31f/lib/python3.9/site-packages (0.17.1)\nRequirement already satisfied: nltk>=3.1 in /local_disk0/.ephemeral_nfs/envs/pythonEnv-f0fbfb4f-85d6-49ce-93a2-66d9a97cb31f/lib/python3.9/site-packages (from textblob==0.17.1) (3.8.1)\nRequirement already satisfied: tqdm in /local_disk0/.ephemeral_nfs/envs/pythonEnv-f0fbfb4f-85d6-49ce-93a2-66d9a97cb31f/lib/python3.9/site-packages (from nltk>=3.1->textblob==0.17.1) (4.66.1)\nRequirement already satisfied: click in /databricks/python3/lib/python3.9/site-packages (from nltk>=3.1->textblob==0.17.1) (8.0.4)\nRequirement already satisfied: regex>=2021.8.3 in /local_disk0/.ephemeral_nfs/envs/pythonEnv-f0fbfb4f-85d6-49ce-93a2-66d9a97cb31f/lib/python3.9/site-packages (from nltk>=3.1->textblob==0.17.1) (2023.10.3)\nRequirement already satisfied: joblib in /databricks/python3/lib/python3.9/site-packages (from nltk>=3.1->textblob==0.17.1) (1.1.1)\nPython interpreter will be restarted.\n"
     ]
    }
   ],
   "source": [
    "%pip install \"boto3==1.21.32\" \"fsspec==2023.10.0\" \"s3fs==0.4.2\"\n",
    "%pip install \"spark-nlp==5.1.4\"\n",
    "%pip install \"textblob==0.17.1\""
   ]
  },
  {
   "cell_type": "markdown",
   "metadata": {
    "application/vnd.databricks.v1+cell": {
     "cellMetadata": {
      "byteLimit": 2048000,
      "rowLimit": 10000
     },
     "inputWidgets": {},
     "nuid": "206637ed-81bc-4ede-8aa1-bad349d40456",
     "showTitle": true,
     "title": "Connecting to S3"
    }
   },
   "source": []
  },
  {
   "cell_type": "code",
   "execution_count": 0,
   "metadata": {
    "application/vnd.databricks.v1+cell": {
     "cellMetadata": {
      "byteLimit": 2048000,
      "rowLimit": 10000
     },
     "inputWidgets": {},
     "nuid": "eac51809-680a-417d-aa3d-bc09e07cb710",
     "showTitle": false,
     "title": ""
    }
   },
   "outputs": [],
   "source": [
    "import os\n",
    "# To work with Amazon S3 storage, set the following variables using your AWS Access Key and Secret Key\n",
    "# Set the Region to where your files are stored in S3.\n",
    "access_key = 'abc'\n",
    "secret_key = 'abc'\n",
    "# Set the environment variables so boto3 can pick them up later\n",
    "os.environ['AWS_ACCESS_KEY_ID'] = access_key\n",
    "os.environ['AWS_SECRET_ACCESS_KEY'] = secret_key\n",
    "encoded_secret_key = secret_key.replace(\"/\", \"%2F\")\n",
    "aws_region = \"us-east-2\"\n",
    "# Set this to the name of your bucket where the files are stored\n",
    "aws_bucket_name = \"genius-lyrics-ss\"\n",
    "mount_name = \"s3dataread\""
   ]
  },
  {
   "cell_type": "code",
   "execution_count": 0,
   "metadata": {
    "application/vnd.databricks.v1+cell": {
     "cellMetadata": {
      "byteLimit": 2048000,
      "rowLimit": 10000
     },
     "inputWidgets": {},
     "nuid": "c9fe8720-dba8-40c1-896a-5b109e8b034d",
     "showTitle": false,
     "title": ""
    }
   },
   "outputs": [],
   "source": [
    "# Update the Spark options to work with our AWS Credentials\n",
    "sc._jsc.hadoopConfiguration().set(\"fs.s3a.access.key\", access_key)\n",
    "sc._jsc.hadoopConfiguration().set(\"fs.s3a.secret.key\", secret_key)\n",
    "sc._jsc.hadoopConfiguration().set(\"fs.s3a.endpoint\", \"s3.\" + aws_region +\n",
    "\".amazonaws.com\")"
   ]
  },
  {
   "cell_type": "code",
   "execution_count": 0,
   "metadata": {
    "application/vnd.databricks.v1+cell": {
     "cellMetadata": {
      "byteLimit": 2048000,
      "rowLimit": 10000
     },
     "inputWidgets": {},
     "nuid": "0b51c283-d97c-47f0-aee3-734cdd7f02c6",
     "showTitle": false,
     "title": ""
    }
   },
   "outputs": [],
   "source": [
    "# importing neccessary libraries\n",
    "from pyspark.sql import SparkSession\n",
    "from pyspark.ml.feature import Tokenizer, CountVectorizer, StopWordsRemover, OneHotEncoder, StringIndexer, VectorAssembler, RegexTokenizer\n",
    "from pyspark.ml.feature import HashingTF, IDF\n",
    "from textblob import TextBlob\n",
    "from pyspark.sql.types import DoubleType\n",
    "from pyspark.sql.functions import when\n",
    "from pyspark.sql.types import StringType\n",
    "import string\n",
    "from pyspark.sql.functions import udf, col, lower\n",
    "from pyspark.ml.classification import LogisticRegression\n",
    "from pyspark.ml import Pipeline"
   ]
  },
  {
   "cell_type": "code",
   "execution_count": 0,
   "metadata": {
    "application/vnd.databricks.v1+cell": {
     "cellMetadata": {
      "byteLimit": 2048000,
      "rowLimit": 10000
     },
     "inputWidgets": {},
     "nuid": "0a61fcb9-e9cf-475c-acfd-8b0fe98509c4",
     "showTitle": false,
     "title": ""
    }
   },
   "outputs": [
    {
     "output_type": "stream",
     "name": "stdout",
     "output_type": "stream",
     "text": [
      "+--------------------+-------+--------------------+----+--------------------+------+--------+--------------------+\n|               title|  genre|              artist|year|            features|    id|language|      lyrics_cleaned|\n+--------------------+-------+--------------------+----+--------------------+------+--------+--------------------+\n|I Do It For The R...|    rap|          Lil Debbie|2012|                    | 95249|      en|i got bitches you...|\n|                 4Gs|    rap|     Statik Selektah|2011|TermanologyScram ...| 95250|      en|verse 1 eay money...|\n|  The Vanishing Mind|   rock|            Calexico|2012|                    | 95251|      en|on the longest da...|\n|          Crazy Town|country|        Jason Aldean|2009|                    | 95252|      en|verse 1 roll into...|\n|             Chillin|    rap|        Backdoe boyz|2012|                    | 95255|      en|1yall aint loud i...|\n|New York Citys Ki...|   rock|      Ray LaMontagne|2012|                    | 95256|      en|theres just somet...|\n|           Labor Day|    rap|     Statik Selektah|2011|Freddie GibbsTerm...| 95257|      en|action bronson qu...|\n|      Play Your Role|    rap|                Reks|2012|         Termanology| 95260|      en|scratch hook list...|\n|Save The Best For...|    rap|            II Kings|2012|   Chino XLSeth Rock| 95261|      en|intro and on a da...|\n|      Standing Still|    rap|            II Kings|2012|                    | 95262|      en|intro elusive its...|\n|         Horny Zebra|    rap|         Chip$ (USA)|2012|Danny BrownKeelyC...| 95263|      en|danny brown bitch...|\n|    And It Dont Quit|    rap|Statik Selektah &...|2011|       TekJakk Frost| 95264|      en|scratches get you...|\n|SAY YOU WILL REMI...|    rap|          TRAPPACASH|2012|                    | 95265|      en|man that weed shu...|\n|                NGGR|    rap|       Simple Minded|2012|                    | 95267|      en|hook told you i w...|\n|        Red Mosquito|   rock|           Pearl Jam|1996|                    |103084|      en|intro line one mi...|\n|Racing in the Street|   rock|   Bruce Springsteen|1978|                    | 95268|      en|verse 1 i got a s...|\n|         Guitar Solo|    rap|         Danny Brown|2010|                    | 95269|      en|verse 1 my little...|\n|             GHETTO.|    rap|     Kids These Days|2012|                    | 95270|      en|television earth ...|\n|     A Glorious Dawn|   misc|          Carl Sagan|2012|     Stephen Hawking| 95271|      en|sagan if you wish...|\n| Foreswear It sight.|    rap|           Crxcxdile|2012|                    | 99681|      en|verse1  dimmed li...|\n+--------------------+-------+--------------------+----+--------------------+------+--------+--------------------+\nonly showing top 20 rows\n\n"
     ]
    }
   ],
   "source": [
    "# Reading folder with all my parquet files:\n",
    "lyrics_million = \"s3://genius-lyrics-ss/raw/song_lyrics_100000.parquet\"\n",
    "lm_sdf = spark.read.parquet(lyrics_million)\n",
    "lm_sdf.show()"
   ]
  },
  {
   "cell_type": "code",
   "execution_count": 0,
   "metadata": {
    "application/vnd.databricks.v1+cell": {
     "cellMetadata": {
      "byteLimit": 2048000,
      "rowLimit": 10000
     },
     "inputWidgets": {},
     "nuid": "4fa752db-7df5-450b-a5a8-383f1d843bd4",
     "showTitle": true,
     "title": "Normalize & Preprocess & More Cleaning"
    }
   },
   "outputs": [
    {
     "output_type": "stream",
     "name": "stdout",
     "output_type": "stream",
     "text": [
      "+--------------------+-------+--------------------+----+--------------------+------+--------+--------------------+\n|               title|  genre|              artist|year|            features|    id|language|      lyrics_cleaned|\n+--------------------+-------+--------------------+----+--------------------+------+--------+--------------------+\n|I Do It For The R...|    rap|          Lil Debbie|2012|                    | 95249|      en|i got bitches you...|\n|                 4Gs|    rap|     Statik Selektah|2011|TermanologyScram ...| 95250|      en|  eay money we go...|\n|  The Vanishing Mind|   rock|            Calexico|2012|                    | 95251|      en|on the longest da...|\n|          Crazy Town|country|        Jason Aldean|2009|                    | 95252|      en|  roll into town ...|\n|             Chillin|    rap|        Backdoe boyz|2012|                    | 95255|      en|yall aint loud in...|\n|New York Citys Ki...|   rock|      Ray LaMontagne|2012|                    | 95256|      en|theres just somet...|\n|           Labor Day|    rap|     Statik Selektah|2011|Freddie GibbsTerm...| 95257|      en|action bronson qu...|\n|      Play Your Role|    rap|                Reks|2012|         Termanology| 95260|      en|scratch hook list...|\n|Save The Best For...|    rap|            II Kings|2012|   Chino XLSeth Rock| 95261|      en| and on a dark co...|\n|      Standing Still|    rap|            II Kings|2012|                    | 95262|      en| elusive its been...|\n|         Horny Zebra|    rap|         Chip$ (USA)|2012|Danny BrownKeelyC...| 95263|      en|danny brown bitch...|\n|    And It Dont Quit|    rap|Statik Selektah &...|2011|       TekJakk Frost| 95264|      en|scratches get you...|\n|SAY YOU WILL REMI...|    rap|          TRAPPACASH|2012|                    | 95265|      en|man that weed shu...|\n|                NGGR|    rap|       Simple Minded|2012|                    | 95267|      en|hook told you i w...|\n|        Red Mosquito|   rock|           Pearl Jam|1996|                    |103084|      en| line one mighty ...|\n|Racing in the Street|   rock|   Bruce Springsteen|1978|                    | 95268|      en|  i got a sixtyni...|\n|         Guitar Solo|    rap|         Danny Brown|2010|                    | 95269|      en|  my little nigga...|\n|             GHETTO.|    rap|     Kids These Days|2012|                    | 95270|      en|television earth ...|\n|     A Glorious Dawn|   misc|          Carl Sagan|2012|     Stephen Hawking| 95271|      en|sagan if you wish...|\n| Foreswear It sight.|    rap|           Crxcxdile|2012|                    | 99681|      en|  dimmed lights a...|\n+--------------------+-------+--------------------+----+--------------------+------+--------+--------------------+\nonly showing top 20 rows\n\n"
     ]
    }
   ],
   "source": [
    "# Function that removes unnecessary words & numbers\n",
    "def drop_words_int(text, remove_words=['chorus','intro', 'verse']):\n",
    "\n",
    "    # removing numbers in lyrics as i wont need them\n",
    "    text = ''.join([char for char in text if not char.isdigit()])\n",
    "\n",
    "        # removing specific words in my list\n",
    "    if remove_words:\n",
    "        for word in remove_words:\n",
    "            text = text.replace(word, '')\n",
    "\n",
    "    return text\n",
    "remove_specific_udf = spark.udf.register(\"remove_specific_udf\", drop_words_int, StringType())\n",
    "\n",
    "lm_sdf = lm_sdf.withColumn(\"lyrics_cleaned\", remove_specific_udf(col(\"lyrics_cleaned\")))\n",
    "\n",
    "lm_sdf.show()"
   ]
  },
  {
   "cell_type": "code",
   "execution_count": 0,
   "metadata": {
    "application/vnd.databricks.v1+cell": {
     "cellMetadata": {
      "byteLimit": 2048000,
      "rowLimit": 10000
     },
     "inputWidgets": {},
     "nuid": "9b3d742f-794e-40a1-8ff6-57ba0d90d2c5",
     "showTitle": true,
     "title": "Sentiment Analysis "
    }
   },
   "outputs": [],
   "source": [
    "# Defining my sentiment analysis \n",
    "\n",
    "def sentiment_analysis(tokens):\n",
    "    if tokens is None:\n",
    "        return 0.0\n",
    "    # Check if tokens is a list - was getting a type error\n",
    "    if isinstance(tokens, list):\n",
    "        # Convert the list of tokens to a string\n",
    "        text = ' '.join(tokens)\n",
    "    else:\n",
    "        # If not a list, assume it's already a string\n",
    "        text = str(tokens)\n",
    "    \n",
    "    # Perform sentiment analysis on the string\n",
    "    sentiment = TextBlob(text).sentiment.polarity\n",
    "    return sentiment\n",
    "\n",
    "\n",
    "sentiment_analysis_udf = udf(sentiment_analysis, DoubleType())\n",
    "\n",
    "sentiment_lyrics = lm_sdf.withColumn(\"sentiment_lyrics\", sentiment_analysis_udf(lm_sdf['lyrics_cleaned']))\n",
    "sentiment_title = sentiment_lyrics.withColumn(\"sentiment_title\",sentiment_analysis_udf('title'))\n",
    "\n",
    "finalSdf = sentiment_title"
   ]
  },
  {
   "cell_type": "code",
   "execution_count": 0,
   "metadata": {
    "application/vnd.databricks.v1+cell": {
     "cellMetadata": {
      "byteLimit": 2048000,
      "rowLimit": 10000
     },
     "inputWidgets": {},
     "nuid": "abf97757-734d-4f7d-8155-6ef452b9becd",
     "showTitle": true,
     "title": "Feature Engineering"
    }
   },
   "outputs": [],
   "source": [
    "# Building my features/vectors \n",
    "\n",
    "# Defining the columns to index\n",
    "index_cols = [\"genre\", \"language\", \"artist\"]\n",
    "\n",
    "# 1 - Indexer \n",
    "indexers = [\n",
    "    StringIndexer(inputCol=col, outputCol=f\"{col}Index\", handleInvalid=\"keep\")\n",
    "    for col in index_cols\n",
    "]\n",
    "\n",
    "\n",
    "# 2 - Encoder \n",
    "encoders = [\n",
    "    OneHotEncoder(inputCol=f\"{col}Index\", outputCol=f\"{col}Encoded\")\n",
    "    for col in index_cols\n",
    "]\n",
    "# 3 - Tokenizer \n",
    "regexTokenizer = RegexTokenizer(inputCol=\"lyrics_cleaned\", outputCol=\"tokens\", pattern=\"\\\\w+\", gaps=False)\n",
    "finalSdf = regexTokenizer.transform(finalSdf)\n",
    "# 4 - Stop Words Remover \n",
    "stopwords_remover = StopWordsRemover(inputCol=\"tokens\", outputCol=\"cleanLyrics\")\n",
    "finalSdf = stopwords_remover.transform(finalSdf)\n",
    "\n",
    "# 5 - HashingTF & idf\n",
    "hashing_tf = HashingTF(inputCol=\"cleanLyrics\", outputCol=\"hashedFeatures_tf\", numFeatures=4096)\n",
    "finalSdf = hashing_tf.transform(finalSdf)\n",
    "\n",
    "idf = IDF(inputCol='hashedFeatures_tf', outputCol=\"wordFeatures\", minDocFreq=1)\n",
    "\n",
    "finalSdf = idf.fit(finalSdf).transform(finalSdf)"
   ]
  },
  {
   "cell_type": "code",
   "execution_count": 0,
   "metadata": {
    "application/vnd.databricks.v1+cell": {
     "cellMetadata": {
      "byteLimit": 2048000,
      "rowLimit": 10000
     },
     "inputWidgets": {},
     "nuid": "c4bdd4ef-3c3a-4e13-8415-bb889d4efeda",
     "showTitle": false,
     "title": ""
    }
   },
   "outputs": [
    {
     "output_type": "stream",
     "name": "stdout",
     "output_type": "stream",
     "text": [
      "+--------------------+-------+--------------+----+--------------------+-----+--------+--------------------+--------------------+--------------------+--------------------+--------------------+--------------------+--------------------+\n|               title|  genre|        artist|year|            features|   id|language|      lyrics_cleaned|    sentiment_lyrics|     sentiment_title|              tokens|         cleanLyrics|   hashedFeatures_tf|        wordFeatures|\n+--------------------+-------+--------------+----+--------------------+-----+--------+--------------------+--------------------+--------------------+--------------------+--------------------+--------------------+--------------------+\n|          Crazy Town|country|  Jason Aldean|2009|                    |95252|      en|  roll into town ...|-0.14794612794612796|                -0.6|[roll, into, town...|[roll, town, step...|(4096,[4,19,78,79...|(4096,[4,19,78,79...|\n|             Chillin|    rap|  Backdoe boyz|2012|                    |95255|      en|yall aint loud in...|               -0.15|                 0.0|[yall, aint, loud...|[yall, aint, loud...|(4096,[48,814,837...|(4096,[48,814,837...|\n|New York Citys Ki...|   rock|Ray LaMontagne|2012|                    |95256|      en|theres just somet...| 0.13698347107438014| 0.13636363636363635|[theres, just, so...|[theres, somethin...|(4096,[46,159,167...|(4096,[46,159,167...|\n|      Standing Still|    rap|      II Kings|2012|                    |95262|      en| elusive its been...| -0.0383049766770697|                 0.0|[elusive, its, be...|[elusive, long, r...|(4096,[10,18,30,3...|(4096,[10,18,30,3...|\n|         Horny Zebra|    rap|   Chip$ (USA)|2012|Danny BrownKeelyC...|95263|      en|danny brown bitch...|-0.06815642087381221|                 0.0|[danny, brown, bi...|[danny, brown, bi...|(4096,[11,48,55,8...|(4096,[11,48,55,8...|\n|         Guitar Solo|    rap|   Danny Brown|2010|                    |95269|      en|  my little nigga...|-0.07234848484848484|                 0.0|[my, little, nigg...|[little, nigga, g...|(4096,[32,81,87,1...|(4096,[32,81,87,1...|\n|     A Glorious Dawn|   misc|    Carl Sagan|2012|     Stephen Hawking|95271|      en|sagan if you wish...| 0.24277690700104487|                 0.0|[sagan, if, you, ...|[sagan, wish, mak...|(4096,[10,31,38,4...|(4096,[10,31,38,4...|\n|           Lions Den|    rap|      PROlific|2012|   OTAudacityS Devon|95274|      en|iv of chicagos ve...|                0.39|                 0.0|[iv, of, chicagos...|[iv, chicagos, co...|(4096,[40,49,121,...|(4096,[40,49,121,...|\n|Bredcrum For Pres...|    rap|      Bredcrum|2012|                    |95279|      en| yo this is bredc...| 0.19182692307692312|                 0.0|[yo, this, is, br...|[yo, bredcrum, ba...|(4096,[26,31,109,...|(4096,[26,31,109,...|\n|           Sacrifice|    rap| Black Thought|2012|                    |95280|      en|  black thought g...| 0.14420289855072466|                 0.0|[black, thought, ...|[black, thought, ...|(4096,[37,53,71,1...|(4096,[37,53,71,1...|\n|       Bis ans Limit|    rap|         Shiml|2006|                    |95282|      de|part i ich verdun...| 0.10833333333333334|                 0.0|[part, i, ich, ve...|[part, ich, verdu...|(4096,[4,82,116,1...|(4096,[4,82,116,1...|\n|         Pechschwarz|    rap|         Shiml|2006|                    |95283|      de|part i ich betrat...|                 0.0|                 0.0|[part, i, ich, be...|[part, ich, betra...|(4096,[19,28,43,6...|(4096,[19,28,43,6...|\n|          Black JuJu|   rock|  Alice Cooper|1971|                    |95288|      en|instrumental     ...|-0.01365740740740...|-0.16666666666666666|[instrumental, bo...|[instrumental, bo...|(4096,[32,87,257,...|(4096,[32,87,257,...|\n|                 F64|    rap|          Elro|2011|                    |95293|      en|i wanna be a blac...| 0.11409317426759286|                 0.0|[i, wanna, be, a,...|[wanna, black, ma...|(4096,[30,31,66,8...|(4096,[30,31,66,8...|\n|         Unavailable|    rap|    Mike Sears|2012|           Matty Ice|95296|      en|  mike sears okay...|0.021676587301587304|                 0.0|[mike, sears, oka...|[mike, sears, oka...|(4096,[31,32,123,...|(4096,[31,32,123,...|\n| Thats How You Do It|    rap|        K-Rino|2012|                    |95297|      en| whats up little ...| 0.08321995464852609|                 0.0|[whats, up, littl...|[whats, little, s...|(4096,[6,31,72,86...|(4096,[6,31,72,86...|\n|       Rain and Wind|    rap|        K-Rino|2012|                    |95298|      en|  first off i kno...| -0.0636584249084249|                 0.0|[first, off, i, k...|[first, know, sit...|(4096,[32,35,122,...|(4096,[32,35,122,...|\n|    Russian Roulette|    rap|       Papoose|2006|                    |95300|      en|russian roulette ...|0.041044289044289056|                 0.0|[russian, roulett...|[russian, roulett...|(4096,[30,87,108,...|(4096,[30,87,108,...|\n|      The Apocalypse|    rap|      The Owls|2012|           ​The Owls|99697|      en|  owls imma rock ...|  0.2084848484848485|                 0.0|[owls, imma, rock...|[owls, imma, rock...|(4096,[69,145,148...|(4096,[69,145,148...|\n|        Favorite Set|    rap| Mickey MONDAY|2012|                    |95303|      en|  yeah keep her c...|              0.2375|                 0.5|[yeah, keep, her,...|[yeah, keep, clos...|(4096,[62,71,122,...|(4096,[62,71,122,...|\n+--------------------+-------+--------------+----+--------------------+-----+--------+--------------------+--------------------+--------------------+--------------------+--------------------+--------------------+--------------------+\nonly showing top 20 rows\n\n"
     ]
    }
   ],
   "source": [
    "#Sample my data \n",
    "finalSdf = finalSdf.sample(False, 0.3)\n",
    "finalSdf.show()"
   ]
  },
  {
   "cell_type": "code",
   "execution_count": 0,
   "metadata": {
    "application/vnd.databricks.v1+cell": {
     "cellMetadata": {
      "byteLimit": 2048000,
      "rowLimit": 10000
     },
     "inputWidgets": {},
     "nuid": "7e6de249-ece5-430a-8070-f17d51c2ef9a",
     "showTitle": true,
     "title": "Assembling Features & Vectorizing"
    }
   },
   "outputs": [],
   "source": [
    "# Assemble the categorical features\n",
    "assembler_c = VectorAssembler(inputCols=[f\"{col}Encoded\" for col in index_cols], outputCol=\"catFeatures\")\n",
    "\n",
    "# Assemble non cat all features\n",
    "vectorCols = ['sentiment_lyrics', 'sentiment_title', 'wordFeatures']\n",
    "assembler = VectorAssembler(inputCols=vectorCols, outputCol=\"featuresAssembled\")"
   ]
  },
  {
   "cell_type": "code",
   "execution_count": 0,
   "metadata": {
    "application/vnd.databricks.v1+cell": {
     "cellMetadata": {
      "byteLimit": 2048000,
      "rowLimit": 10000
     },
     "inputWidgets": {},
     "nuid": "6a415856-b19a-4b7c-8a27-c778576fc78c",
     "showTitle": true,
     "title": "Building my Model & Pipeline"
    }
   },
   "outputs": [
    {
     "output_type": "stream",
     "name": "stdout",
     "output_type": "stream",
     "text": [
      "+--------------------+--------------------+--------------------+\n|         catFeatures|        wordFeatures|   featuresAssembled|\n+--------------------+--------------------+--------------------+\n|(8009,[5,6,5434],...|(4096,[4,19,78,79...|(4098,[0,1,6,21,8...|\n|(8009,[0,6,3940],...|(4096,[48,814,837...|(4098,[0,50,816,8...|\n|(8009,[1,6,6807],...|(4096,[46,159,167...|(4098,[0,1,48,161...|\n|(8009,[0,6,946],[...|(4096,[10,18,30,3...|(4098,[0,12,20,32...|\n|(8009,[0,6,4304],...|(4096,[11,48,55,8...|(4098,[0,13,50,57...|\n|(8009,[0,6,208],[...|(4096,[32,81,87,1...|(4098,[0,34,83,89...|\n|(8009,[2,6,4235],...|(4096,[10,31,38,4...|(4098,[0,12,33,40...|\n|(8009,[0,6,6592],...|(4096,[40,49,121,...|(4098,[0,42,51,12...|\n|(8009,[0,6,4117],...|(4096,[26,31,109,...|(4098,[0,28,33,11...|\n|(8009,[0,6,1976],...|(4096,[37,53,71,1...|(4098,[0,39,55,73...|\n+--------------------+--------------------+--------------------+\nonly showing top 10 rows\n\n"
     ]
    }
   ],
   "source": [
    "lr = LogisticRegression(featuresCol=\"featuresAssembled\", labelCol=\"genreIndex\", maxIter=10, regParam=0.1, elasticNetParam=0.5, family=\"multinomial\")\n",
    "\n",
    "lyricsPipeline = Pipeline(stages=indexers + encoders + [assembler_c, assembler, lr])\n",
    "\n",
    "#For testing, see what the assembled feature vector looks like \n",
    "test_sdf = lyricsPipeline.fit(finalSdf).transform(finalSdf)\n",
    "\n",
    "test_sdf.select('catFeatures', 'wordFeatures', 'featuresAssembled').show(10)\n"
   ]
  },
  {
   "cell_type": "code",
   "execution_count": 0,
   "metadata": {
    "application/vnd.databricks.v1+cell": {
     "cellMetadata": {
      "byteLimit": 2048000,
      "rowLimit": 10000
     },
     "inputWidgets": {},
     "nuid": "88f6cbce-8c74-45ac-8987-1e60680c3cda",
     "showTitle": false,
     "title": ""
    }
   },
   "outputs": [],
   "source": [
    "# Splitting my data\n",
    "trainingData, testData = finalSdf.randomSplit([0.7, 0.3], seed=789789)\n",
    "\n",
    "\n",
    "# Training my model \n",
    "model = lyricsPipeline.fit(trainingData)\n"
   ]
  },
  {
   "cell_type": "code",
   "execution_count": 0,
   "metadata": {
    "application/vnd.databricks.v1+cell": {
     "cellMetadata": {
      "byteLimit": 2048000,
      "rowLimit": 10000
     },
     "inputWidgets": {},
     "nuid": "07fe1ab2-a72e-4f8e-9c7d-b1489928ed80",
     "showTitle": false,
     "title": ""
    }
   },
   "outputs": [],
   "source": [
    "transformedTrainingData = model.transform(trainingData)\n",
    "\n",
    "predictions = model.transform(testData)"
   ]
  },
  {
   "cell_type": "code",
   "execution_count": 0,
   "metadata": {
    "application/vnd.databricks.v1+cell": {
     "cellMetadata": {
      "byteLimit": 2048000,
      "rowLimit": 10000
     },
     "inputWidgets": {},
     "nuid": "0850f591-b92c-4266-83e5-2beafa1b43e3",
     "showTitle": false,
     "title": ""
    }
   },
   "outputs": [
    {
     "output_type": "stream",
     "name": "stdout",
     "output_type": "stream",
     "text": [
      "[[0. 0. 0. ... 0. 0. 0.]\n [0. 0. 0. ... 0. 0. 0.]\n [0. 0. 0. ... 0. 0. 0.]\n ...\n [0. 0. 0. ... 0. 0. 0.]\n [0. 0. 0. ... 0. 0. 0.]\n [0. 0. 0. ... 0. 0. 0.]]\n"
     ]
    }
   ],
   "source": [
    "# Access the logistic regression model from the pipeline stages\n",
    "lr_model = model.stages[8]\n",
    "# Print the coefficient matrix\n",
    "print(lr_model.coefficientMatrix.toArray())\n"
   ]
  },
  {
   "cell_type": "code",
   "execution_count": 0,
   "metadata": {
    "application/vnd.databricks.v1+cell": {
     "cellMetadata": {
      "byteLimit": 2048000,
      "rowLimit": 10000
     },
     "inputWidgets": {},
     "nuid": "23c2a35e-1870-4dfc-9f14-c7366f5fa65e",
     "showTitle": false,
     "title": ""
    }
   },
   "outputs": [],
   "source": [
    "# Assuming 'model' is your trained model after fitting the pipeline\n",
    "lr_model = model.stages[-1]  # Replace with the correct stage index if needed\n",
    "\n",
    "# Coefficients\n",
    "coefficients = lr_model.coefficientMatrix.toArray()\n"
   ]
  },
  {
   "cell_type": "code",
   "execution_count": 0,
   "metadata": {
    "application/vnd.databricks.v1+cell": {
     "cellMetadata": {
      "byteLimit": 2048000,
      "rowLimit": 10000
     },
     "inputWidgets": {},
     "nuid": "ffbe6676-976a-49ed-aa47-d0c25f2c3651",
     "showTitle": false,
     "title": ""
    }
   },
   "outputs": [],
   "source": [
    "# Assuming 'model' is your trained model after fitting the pipeline\n",
    "lr_model = model.stages[-1]  # Replace with the correct stage index if needed\n",
    "\n",
    "# Coefficients\n",
    "coefficients = lr_model.coefficientMatrix.toArray()\n"
   ]
  },
  {
   "cell_type": "code",
   "execution_count": 0,
   "metadata": {
    "application/vnd.databricks.v1+cell": {
     "cellMetadata": {
      "byteLimit": 2048000,
      "rowLimit": 10000
     },
     "inputWidgets": {},
     "nuid": "34549fbb-d008-4500-9741-c9bbd743ed01",
     "showTitle": false,
     "title": ""
    }
   },
   "outputs": [
    {
     "output_type": "stream",
     "name": "stdout",
     "output_type": "stream",
     "text": [
      "[[0. 0. 0. ... 0. 0. 0.]\n [0. 0. 0. ... 0. 0. 0.]\n [0. 0. 0. ... 0. 0. 0.]\n ...\n [0. 0. 0. ... 0. 0. 0.]\n [0. 0. 0. ... 0. 0. 0.]\n [0. 0. 0. ... 0. 0. 0.]]\n"
     ]
    }
   ],
   "source": [
    "print(coefficients)"
   ]
  },
  {
   "cell_type": "code",
   "execution_count": 0,
   "metadata": {
    "application/vnd.databricks.v1+cell": {
     "cellMetadata": {
      "byteLimit": 2048000,
      "rowLimit": 10000
     },
     "inputWidgets": {},
     "nuid": "40ce773b-b202-45f4-b6f7-eac509ce08b2",
     "showTitle": false,
     "title": ""
    }
   },
   "outputs": [
    {
     "output_type": "stream",
     "name": "stdout",
     "output_type": "stream",
     "text": [
      "[[0. 0. 0. ... 0. 0. 0.]\n [0. 0. 0. ... 0. 0. 0.]\n [0. 0. 0. ... 0. 0. 0.]\n ...\n [0. 0. 0. ... 0. 0. 0.]\n [0. 0. 0. ... 0. 0. 0.]\n [0. 0. 0. ... 0. 0. 0.]]\n"
     ]
    }
   ],
   "source": [
    "print(model.stages[8].coefficientMatrix.toArray())\n"
   ]
  },
  {
   "cell_type": "code",
   "execution_count": 0,
   "metadata": {
    "application/vnd.databricks.v1+cell": {
     "cellMetadata": {
      "byteLimit": 2048000,
      "rowLimit": 10000
     },
     "inputWidgets": {},
     "nuid": "e58c3147-633a-4e42-9bfe-82eb962628e0",
     "showTitle": false,
     "title": ""
    }
   },
   "outputs": [
    {
     "output_type": "stream",
     "name": "stdout",
     "output_type": "stream",
     "text": [
      "Test Data Accuracy:  0.8797034085878708\n"
     ]
    }
   ],
   "source": [
    "from pyspark.ml.evaluation import MulticlassClassificationEvaluator\n",
    "\n",
    "# Evaluate accuracy\n",
    "evaluator = MulticlassClassificationEvaluator(labelCol=\"genreIndex\", predictionCol=\"prediction\", metricName=\"accuracy\")\n",
    "test_accuracy = evaluator.evaluate(predictions)\n",
    "print(\"Test Data Accuracy: \", test_accuracy)\n",
    "\n",
    "# Evaluate precision, recall, and F1-score similarly by changing metricName to \"weightedPrecision\", \"weightedRecall\", \"f1\"\n",
    "\n"
   ]
  },
  {
   "cell_type": "code",
   "execution_count": 0,
   "metadata": {
    "application/vnd.databricks.v1+cell": {
     "cellMetadata": {
      "byteLimit": 2048000,
      "rowLimit": 10000
     },
     "inputWidgets": {},
     "nuid": "1d6e80d8-0121-4ae1-a1a1-5b785a89beeb",
     "showTitle": false,
     "title": ""
    }
   },
   "outputs": [],
   "source": [
    "import matplotlib.pyplot as plt\n",
    "import seaborn as sns\n",
    "\n",
    "# Assuming you have the necessary data in Pandas DataFrames\n",
    "\n",
    "# Visualization 1: Genre Distribution Bar Chart\n",
    "plt.figure(figsize=(10, 6))\n",
    "sns.countplot(y='genre', data=your_dataset)\n",
    "plt.title('Genre Distribution in the Dataset')\n",
    "plt.xlabel('Number of Songs')\n",
    "plt.ylabel('Genre')\n",
    "plt.show()\n",
    "\n",
    "# Visualization 2: Genre Prediction Accuracy Bar Chart\n",
    "# You'll need to calculate accuracy per genre from the confusion matrix first\n",
    "plt.figure(figsize=(10, 6))\n",
    "sns.barplot(x='Accuracy', y='Genre', data=accuracy_per_genre_df)\n",
    "plt.title('Model Accuracy by Genre')\n",
    "plt.xlabel('Accuracy')\n",
    "plt.ylabel('Genre')\n",
    "plt.show()\n",
    "\n",
    "# Visualization 3: Precision and Recall by Genre\n",
    "plt.figure(figsize=(10, 6))\n",
    "precision_recall_df.plot(kind='bar', x='Genre')\n",
    "plt.title('Precision and Recall by Genre')\n",
    "plt.xlabel('Genre')\n",
    "plt.ylabel('Score')\n",
    "plt.show()\n",
    "\n",
    "# Visualization 4: Feature Importance Heatmap\n",
    "# This assumes you've transformed the feature importances into a DataFrame\n",
    "plt.figure(figsize=(10, 6))\n",
    "sns.heatmap(feature_importance_df, annot=True, cmap='viridis')\n",
    "plt.title('Feature Importance Heatmap by Genre')\n",
    "plt.xlabel('Features')\n",
    "plt.ylabel('Genres')\n",
    "plt.show()\n"
   ]
  },
  {
   "cell_type": "code",
   "execution_count": 0,
   "metadata": {
    "application/vnd.databricks.v1+cell": {
     "cellMetadata": {
      "byteLimit": 2048000,
      "rowLimit": 10000
     },
     "inputWidgets": {},
     "nuid": "e641e58a-910b-484b-8ddc-b0992c7a4431",
     "showTitle": false,
     "title": ""
    }
   },
   "outputs": [],
   "source": [
    "#saves my model\n",
    "model.save(\"s3://genius-lyrics-ss/models/lr_model\")\n",
    "\n"
   ]
  },
  {
   "cell_type": "code",
   "execution_count": 0,
   "metadata": {
    "application/vnd.databricks.v1+cell": {
     "cellMetadata": {
      "byteLimit": 2048000,
      "rowLimit": 10000
     },
     "inputWidgets": {},
     "nuid": "00106a3a-a921-4274-869b-a4c5ff9d5844",
     "showTitle": false,
     "title": ""
    }
   },
   "outputs": [],
   "source": [
    "#writes my processed data\n",
    "predictions.write.parquet(\"s3://genius-lyrics-ss/trusted/predictions.parquet\")\n"
   ]
  },
  {
   "cell_type": "code",
   "execution_count": 0,
   "metadata": {
    "application/vnd.databricks.v1+cell": {
     "cellMetadata": {
      "byteLimit": 2048000,
      "rowLimit": 10000
     },
     "inputWidgets": {},
     "nuid": "c464c5cd-a574-4e94-8b0b-2fae2b643f38",
     "showTitle": false,
     "title": ""
    }
   },
   "outputs": [],
   "source": [
    "testData.printSchema()\n"
   ]
  },
  {
   "cell_type": "code",
   "execution_count": 0,
   "metadata": {
    "application/vnd.databricks.v1+cell": {
     "cellMetadata": {
      "byteLimit": 2048000,
      "rowLimit": 10000
     },
     "inputWidgets": {},
     "nuid": "127bf245-97ff-472a-aad6-08057597179e",
     "showTitle": false,
     "title": ""
    }
   },
   "outputs": [
    {
     "output_type": "display_data",
     "data": {
      "application/vnd.databricks.v1+bamboolib_hint": "{\"pd.DataFrames\": [], \"version\": \"0.0.1\"}",
      "text/plain": []
     },
     "metadata": {},
     "output_type": "display_data"
    },
    {
     "output_type": "display_data",
     "data": {
      "image/png": "[encoded data removed]"
     },
     "metadata": {
      "application/vnd.databricks.v1+output": {
       "addedWidgets": {},
       "arguments": {},
       "data": "data:image/png;base64,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\n",
       "datasetInfos": [],
       "metadata": {},
       "removedWidgets": [],
       "type": "image"
      }
     },
     "output_type": "display_data"
    }
   ],
   "source": [
    "from pyspark.ml.evaluation import MulticlassClassificationEvaluator\n",
    "from pyspark.mllib.evaluation import MulticlassMetrics\n",
    "from pyspark.sql.functions import col\n",
    "from pyspark.ml.stat import Correlation\n",
    "import pandas as pd\n",
    "import seaborn as sns\n",
    "import matplotlib.pyplot as plt\n",
    "\n",
    "# Making a HeatMap\n",
    "\n",
    "import seaborn as sns\n",
    "import matplotlib.pyplot as plt\n",
    "\n",
    "# Convert PySpark DataFrame to Pandas DataFrame\n",
    "predictions_heatmap = predictions.select(\"genreIndex\", \"prediction\").toPandas()\n",
    "\n",
    "# Create a heatmap\n",
    "sns.heatmap(predictions_heatmap.corr(), annot=True, cmap=\"coolwarm\", fmt=\".2f\")\n",
    "\n",
    "# Show the plot\n",
    "plt.show()\n",
    "\n"
   ]
  },
  {
   "cell_type": "code",
   "execution_count": 0,
   "metadata": {
    "application/vnd.databricks.v1+cell": {
     "cellMetadata": {
      "byteLimit": 2048000,
      "rowLimit": 10000
     },
     "inputWidgets": {},
     "nuid": "0cafe286-9e96-4539-82a3-dcf142861ba1",
     "showTitle": false,
     "title": ""
    }
   },
   "outputs": [
    {
     "output_type": "display_data",
     "data": {
      "image/png": "[encoded data removed]"
     },
     "metadata": {
      "application/vnd.databricks.v1+output": {
       "addedWidgets": {},
       "arguments": {},
       "data": "data:image/png;base64,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\n",
       "datasetInfos": [],
       "metadata": {},
       "removedWidgets": [],
       "type": "image"
      }
     },
     "output_type": "display_data"
    }
   ],
   "source": [
    "from sklearn.metrics import precision_recall_curve\n",
    "from sklearn.preprocessing import label_binarize\n",
    "import numpy as np\n",
    "\n",
    "predictions_pd = predictions.select(['prediction', 'genreIndex']).toPandas()\n",
    "\n",
    "# Binarize the labels for multiclass\n",
    "y_true = label_binarize(predictions_pd['genreIndex'], classes=np.unique(predictions_pd['genreIndex']))\n",
    "y_scores = np.vstack(predictions.select('probability').rdd.map(lambda row: row['probability'].toArray()).collect())\n",
    "\n",
    "# Plot Precision-Recall curve for each class\n",
    "for i in range(y_true.shape[1]):\n",
    "    precision, recall, _ = precision_recall_curve(y_true[:, i], y_scores[:, i])\n",
    "    plt.plot(recall, precision, lw=2, label=f'class {i}')\n",
    "    plt.xlabel('Recall')\n",
    "    plt.ylabel('Precision')\n",
    "    plt.legend(loc='best')\n",
    "plt.title('Precision-Recall curve')\n",
    "plt.show()\n"
   ]
  },
  {
   "cell_type": "code",
   "execution_count": 0,
   "metadata": {
    "application/vnd.databricks.v1+cell": {
     "cellMetadata": {},
     "inputWidgets": {},
     "nuid": "a98f436c-805c-4c75-b82b-f0fe9f6a6953",
     "showTitle": false,
     "title": ""
    }
   },
   "outputs": [],
   "source": [
    "# Save the plot to a buffer\n",
    "img_data_pr_curve = BytesIO()\n",
    "plt.savefig(img_data_pr_curve, format='png', bbox_inches='tight')\n",
    "img_data_pr_curve.seek(0)\n",
    "\n",
    "# Connect to the s3fs file system\n",
    "s3 = s3fs.S3FileSystem(anon=False)\n",
    "\n",
    "# Replace 'your_s3_bucket_path' with your actual bucket path and file name\n",
    "s3_pr_curve_path = 's3://genius-lyrics-ss/plots/pr_curve.png'\n",
    "\n",
    "with s3.open(s3_pr_curve_path, 'wb') as f:\n",
    "    f.write(img_data_pr_curve.read())\n"
   ]
  },
  {
   "cell_type": "code",
   "execution_count": 0,
   "metadata": {
    "application/vnd.databricks.v1+cell": {
     "cellMetadata": {
      "byteLimit": 2048000,
      "rowLimit": 10000
     },
     "inputWidgets": {},
     "nuid": "b49dcd5c-4d0d-422a-82fb-95cf469ae4c0",
     "showTitle": false,
     "title": ""
    }
   },
   "outputs": [
    {
     "output_type": "display_data",
     "data": {
      "image/png": "[encoded data removed]"
     },
     "metadata": {
      "application/vnd.databricks.v1+output": {
       "addedWidgets": {},
       "arguments": {},
       "data": "data:image/png;base64,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\n",
       "datasetInfos": [],
       "metadata": {},
       "removedWidgets": [],
       "type": "image"
      }
     },
     "output_type": "display_data"
    }
   ],
   "source": [
    "g_sdf = finalSdf.groupBy(\"genre\").count().orderBy(col(\"count\").desc())\n",
    "genres_pd = g_sdf.toPandas()\n",
    "\n",
    "# Set the aesthetic style of the plots\n",
    "sns.set_style(\"whitegrid\")\n",
    "\n",
    "# Create a bar plot for the genre counts\n",
    "plt.figure(figsize=(12, 6))\n",
    "sns.barplot(x='count', y='genre', data=genres_pd)\n",
    "plt.title('Popularity of Genres')\n",
    "plt.xlabel('Number of Occurrences')\n",
    "plt.ylabel('Genre')\n",
    "plt.show()"
   ]
  },
  {
   "cell_type": "code",
   "execution_count": 0,
   "metadata": {
    "application/vnd.databricks.v1+cell": {
     "cellMetadata": {
      "byteLimit": 2048000,
      "rowLimit": 10000
     },
     "inputWidgets": {},
     "nuid": "823c6f87-f0b4-42b7-9c85-89594c03e4da",
     "showTitle": false,
     "title": ""
    }
   },
   "outputs": [],
   "source": [
    "from io import BytesIO\n",
    "import matplotlib.pyplot as plt\n",
    "import s3fs \n",
    "\n",
    "# Create a memory buffer to hold the figure\n",
    "img_data = BytesIO()\n",
    "\n",
    "# Creating the plot\n",
    "g_sdf = finalSdf.groupBy(\"genre\").count().orderBy(col(\"count\").desc())\n",
    "genres_pd = g_sdf.toPandas()\n",
    "\n",
    "sns.set_style(\"whitegrid\")\n",
    "\n",
    "# Create a bar plot for the genre counts\n",
    "plt.figure(figsize=(12, 6))\n",
    "sns.barplot(x='count', y='genre', data=genres_pd)\n",
    "plt.title('Popularity of Genres')\n",
    "plt.xlabel('Number of Occurrences')\n",
    "plt.ylabel('Genre')\n",
    "\n",
    "# Save the figure to the buffer\n",
    "plt.savefig(img_data, format='png', bbox_inches='tight')\n",
    "\n",
    "# Rewind the pointer to the start of the data\n",
    "img_data.seek(0)\n",
    "\n",
    "# Connect to the s3fs file system\n",
    "s3 = s3fs.S3FileSystem(anon=False)\n",
    "with s3.open('s3://genius-lyrics-ss/plots/genre_popularity.png', 'wb') as f:\n",
    "    f.write(img_data.read())\n"
   ]
  },
  {
   "cell_type": "code",
   "execution_count": 0,
   "metadata": {
    "application/vnd.databricks.v1+cell": {
     "cellMetadata": {
      "byteLimit": 2048000,
      "rowLimit": 10000
     },
     "inputWidgets": {},
     "nuid": "cfbaea6b-7b5e-49b3-9b10-ad4470781289",
     "showTitle": false,
     "title": ""
    }
   },
   "outputs": [
    {
     "output_type": "stream",
     "name": "stderr",
     "output_type": "stream",
     "text": [
      "/databricks/spark/python/pyspark/sql/context.py:165: FutureWarning: Deprecated in 3.0.0. Use SparkSession.builder.getOrCreate() instead.\n  warnings.warn(\n"
     ]
    }
   ],
   "source": [
    "from pyspark.mllib.evaluation import MulticlassMetrics\n",
    "\n",
    "predictionAndLabels = predictions.select(['prediction', 'genreIndex']).rdd.map(lambda row: (float(row['prediction']), float(row['genreIndex'])))\n",
    "\n",
    "metrics = MulticlassMetrics(predictionAndLabels)\n",
    "\n",
    "# Confusion Matrix\n",
    "conf_matrix = metrics.confusionMatrix().toArray()\n"
   ]
  },
  {
   "cell_type": "code",
   "execution_count": 0,
   "metadata": {
    "application/vnd.databricks.v1+cell": {
     "cellMetadata": {
      "byteLimit": 2048000,
      "rowLimit": 10000
     },
     "inputWidgets": {},
     "nuid": "d7fbf45f-5c09-4dcf-bd16-1b5a95cf24e5",
     "showTitle": false,
     "title": ""
    }
   },
   "outputs": [
    {
     "output_type": "display_data",
     "data": {
      "image/png": "[encoded data removed]"
     },
     "metadata": {
      "application/vnd.databricks.v1+output": {
       "addedWidgets": {},
       "arguments": {},
       "data": "data:image/png;base64,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\n",
       "datasetInfos": [],
       "metadata": {},
       "removedWidgets": [],
       "type": "image"
      }
     },
     "output_type": "display_data"
    }
   ],
   "source": [
    "import matplotlib.pyplot as plt\n",
    "import seaborn as sns\n",
    "\n",
    "# Plot the confusion matrix\n",
    "plt.figure(figsize=(10, 8))\n",
    "sns.heatmap(conf_matrix, annot=True, fmt=\".0f\", cmap='Blues')\n",
    "plt.title('Confusion Matrix')\n",
    "plt.xlabel('Predicted Labels')\n",
    "plt.ylabel('True Labels')\n",
    "# Adjust the x and y-axis labels if you have specific class names\n",
    "plt.xticks(ticks=np.arange(0.5, len(metrics.labels)), labels=metrics.labels)\n",
    "plt.yticks(ticks=np.arange(0.5, len(metrics.labels)), labels=metrics.labels, rotation=0)\n",
    "plt.show()\n"
   ]
  },
  {
   "cell_type": "code",
   "execution_count": 0,
   "metadata": {
    "application/vnd.databricks.v1+cell": {
     "cellMetadata": {
      "byteLimit": 2048000,
      "rowLimit": 10000
     },
     "inputWidgets": {},
     "nuid": "ae0e35f1-ac8f-4cad-a8e6-9bc23277baf2",
     "showTitle": false,
     "title": ""
    }
   },
   "outputs": [],
   "source": [
    "# Save the figure to a buffer\n",
    "img_data_conf_matrix = BytesIO()\n",
    "plt.savefig(img_data_conf_matrix, format='png', bbox_inches='tight')\n",
    "img_data_conf_matrix.seek(0)\n",
    "\n",
    "# Connect to the s3fs file system\n",
    "s3 = s3fs.S3FileSystem(anon=False)\n",
    "\n",
    "# Replace 'your_s3_bucket_path' with your actual bucket path and file name\n",
    "s3_conf_matrix_path = 's3://genius-lyrics-ss/plots/confusion_matrix.png'\n",
    "\n",
    "with s3.open(s3_conf_matrix_path, 'wb') as f:\n",
    "    f.write(img_data_conf_matrix.read())\n"
   ]
  },
  {
   "cell_type": "code",
   "execution_count": 0,
   "metadata": {
    "application/vnd.databricks.v1+cell": {
     "cellMetadata": {
      "byteLimit": 2048000,
      "rowLimit": 10000
     },
     "inputWidgets": {},
     "nuid": "ef01cc8e-b225-4e8c-9910-308b8726783d",
     "showTitle": false,
     "title": ""
    }
   },
   "outputs": [
    {
     "output_type": "stream",
     "name": "stdout",
     "output_type": "stream",
     "text": [
      "Out[10]: <seaborn.axisgrid.FacetGrid at 0x7f45feef8f40>"
     ]
    },
    {
     "output_type": "display_data",
     "data": {
      "image/png": "[encoded data removed]"
     },
     "metadata": {
      "application/vnd.databricks.v1+output": {
       "addedWidgets": {},
       "arguments": {},
       "data": "data:image/png;base64,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\n",
       "datasetInfos": [],
       "metadata": {},
       "removedWidgets": [],
       "type": "image"
      }
     },
     "output_type": "display_data"
    }
   ],
   "source": [
    "# Plot tip against predicted tip (prediction)\n",
    "import seaborn as sns\n",
    "\n",
    "# The Spark dataframe test_results holds the original 'tip' as well as the 'prediction'\n",
    "# Select and convert to a Pandas dataframe\n",
    "df = sdf.select('genreIndex','prediction').toPandas()\n",
    "\n",
    "# Set the style for Seaborn plots\n",
    "sns.set_style(\"white\")\n",
    " \n",
    "# Create a relationship plot between tip and prediction\n",
    "sns.lmplot(x='genreIndex', y='prediction', data=df)"
   ]
  },
  {
   "cell_type": "code",
   "execution_count": 0,
   "metadata": {
    "application/vnd.databricks.v1+cell": {
     "cellMetadata": {
      "byteLimit": 2048000,
      "rowLimit": 10000
     },
     "inputWidgets": {},
     "nuid": "2e3cc613-c566-4796-8a76-74ee8ff68bed",
     "showTitle": false,
     "title": ""
    }
   },
   "outputs": [],
   "source": [
    "# Save the lmplot to a buffer\n",
    "img_data_lm_plot = BytesIO()\n",
    "lm_plot.savefig(img_data_lm_plot, format='png', bbox_inches='tight')\n",
    "img_data_lm_plot.seek(0)\n",
    "\n",
    "# Connect to the s3fs file system\n",
    "s3 = s3fs.S3FileSystem(anon=False)\n",
    "\n",
    "# Replace 'your_s3_bucket_path' with your actual bucket path and file name\n",
    "s3_lm_plot_path = 's3://genius-lyrics-ss/plots/lm_plot.png'\n",
    "\n",
    "with s3.open(s3_lm_plot_path, 'wb') as f:\n",
    "    f.write(img_data_lm_plot.read())"
   ]
  },
  {
   "cell_type": "code",
   "execution_count": 0,
   "metadata": {
    "application/vnd.databricks.v1+cell": {
     "cellMetadata": {
      "byteLimit": 2048000,
      "rowLimit": 10000
     },
     "inputWidgets": {},
     "nuid": "91b5398e-fbae-447e-85c8-1c7288613e01",
     "showTitle": false,
     "title": ""
    }
   },
   "outputs": [],
   "source": [
    "# Set up the parameter grid\n",
    "paramGrid = ParamGridBuilder() \\\n",
    "    .addGrid(lr.regParam, [0.1, 0.01]) \\\n",
    "    .addGrid(lr.elasticNetParam, [0.0, 0.5, 1.0]) \\\n",
    "    .build()\n",
    "\n",
    "# Set up the CrossValidator\n",
    "crossval = CrossValidator(estimator=lyricsPipeline,\n",
    "                          estimatorParamMaps=paramGrid,\n",
    "                          evaluator=MulticlassClassificationEvaluator(labelCol=\"genreIndex\", predictionCol=\"prediction\", metricName=\"f1\"),\n",
    "                          numFolds=3)\n",
    "\n",
    "# Fit the model\n",
    "cvModel = crossval.fit(trainingData)\n",
    "\n",
    "# Make predictions\n",
    "cvPredictions = cvModel.transform(testData)\n",
    "\n",
    "# Evaluate the model\n",
    "cvAccuracy = evaluator.evaluate(cvPredictions, {evaluator.metricName: \"accuracy\"})\n",
    "print(\"Cross-validated Accuracy:\", cvAccuracy)"
   ]
  },
  {
   "cell_type": "code",
   "execution_count": 0,
   "metadata": {
    "application/vnd.databricks.v1+cell": {
     "cellMetadata": {
      "byteLimit": 2048000,
      "rowLimit": 10000
     },
     "inputWidgets": {},
     "nuid": "d507288f-1627-4221-8c1b-1ba2ac401cef",
     "showTitle": false,
     "title": ""
    }
   },
   "outputs": [],
   "source": [
    "predictions.select(\"genreIndex\", \"prediction\").show()\n"
   ]
  },
  {
   "cell_type": "code",
   "execution_count": 0,
   "metadata": {
    "application/vnd.databricks.v1+cell": {
     "cellMetadata": {
      "byteLimit": 2048000,
      "rowLimit": 10000
     },
     "inputWidgets": {},
     "nuid": "2ac06ff2-9885-4903-9bcf-8204a7b5e158",
     "showTitle": false,
     "title": ""
    }
   },
   "outputs": [],
   "source": [
    "# Check to see where prediction is not 0.0\n",
    "non_zero_predictions = predictions.filter(col(\"prediction\") != 0.0)\n",
    "\n",
    "non_zero_predictions.show()"
   ]
  },
  {
   "cell_type": "code",
   "execution_count": 0,
   "metadata": {
    "application/vnd.databricks.v1+cell": {
     "cellMetadata": {
      "byteLimit": 2048000,
      "rowLimit": 10000
     },
     "inputWidgets": {},
     "nuid": "49bc9440-169d-4bdc-abcd-a72981c37ca0",
     "showTitle": false,
     "title": ""
    }
   },
   "outputs": [],
   "source": []
  }
 ],
 "metadata": {
  "application/vnd.databricks.v1+notebook": {
   "dashboards": [],
   "language": "python",
   "notebookMetadata": {
    "pythonIndentUnit": 4
   },
   "notebookName": "Genius - Feature Engineering & Modeling",
   "widgets": {}
  }
 },
 "nbformat": 4,
 "nbformat_minor": 0
}
